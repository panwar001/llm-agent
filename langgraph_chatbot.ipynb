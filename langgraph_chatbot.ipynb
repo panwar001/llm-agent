{
 "cells": [
  {
   "cell_type": "code",
   "execution_count": 14,
   "id": "8382a06f-e60c-4c7b-b08c-4a78c990a329",
   "metadata": {},
   "outputs": [],
   "source": [
    "import getpass\n",
    "import os\n",
    "\n",
    "os.environ[\"MISTRAL_API_KEY\"] = \"cL9j05Qnp17FgSxqAlO4N7V17AXdtSVt\"\n",
    "api_key = os.getenv('MISTRAL_API_KEY')\n",
    "\n",
    "os.environ[\"TAVILY_API_KEY\"] = \"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\"\n",
    "tavily_api_key = os.getenv('TAVILY_API_KEY')"
   ]
  },
  {
   "cell_type": "code",
   "execution_count": 2,
   "id": "6a58117c-85a8-4011-8f08-fcce7d797d3c",
   "metadata": {},
   "outputs": [],
   "source": [
    "from typing import Annotated\n",
    "\n",
    "from typing_extensions import TypedDict\n",
    "\n",
    "from langgraph.graph import StateGraph, START, END\n",
    "from langgraph.graph.message import add_messages\n",
    "\n",
    "\n",
    "class State(TypedDict):\n",
    "    # Messages have the type \"list\". The `add_messages` function\n",
    "    # in the annotation defines how this state key should be updated\n",
    "    # (in this case, it appends messages to the list, rather than overwriting them)\n",
    "    messages: Annotated[list, add_messages]\n",
    "\n",
    "\n",
    "graph_builder = StateGraph(State)"
   ]
  },
  {
   "cell_type": "code",
   "execution_count": 3,
   "id": "09b6ab5f-f975-4f37-9ece-562f945fa122",
   "metadata": {},
   "outputs": [],
   "source": [
    "from langchain_mistralai import ChatMistralAI\n",
    "\n",
    "model = ChatMistralAI(model=\"mistral-large-latest\")"
   ]
  },
  {
   "cell_type": "code",
   "execution_count": 4,
   "id": "6be4e817-2f8e-4ccc-9c65-22b7b917f575",
   "metadata": {},
   "outputs": [
    {
     "data": {
      "text/plain": [
       "<langgraph.graph.state.StateGraph at 0x10e04b7c0>"
      ]
     },
     "execution_count": 4,
     "metadata": {},
     "output_type": "execute_result"
    }
   ],
   "source": [
    "def chatbot(state: State):\n",
    "    return {\"messages\": [model.invoke(state[\"messages\"])]}\n",
    "\n",
    "# The first argument is the unique node name\n",
    "# The second argument is the function or object that will be called whenever\n",
    "# the node is used.\n",
    "graph_builder.add_node(\"chatbot\", chatbot)"
   ]
  },
  {
   "cell_type": "code",
   "execution_count": 5,
   "id": "d8cf6ad8-1a79-402f-bfd0-cfe919d86cb1",
   "metadata": {},
   "outputs": [
    {
     "data": {
      "text/plain": [
       "<langgraph.graph.state.StateGraph at 0x10e04b7c0>"
      ]
     },
     "execution_count": 5,
     "metadata": {},
     "output_type": "execute_result"
    }
   ],
   "source": [
    "graph_builder.add_edge(START, \"chatbot\")"
   ]
  },
  {
   "cell_type": "code",
   "execution_count": 6,
   "id": "91fdf046-0034-4804-8556-70ed6a1b2b9d",
   "metadata": {},
   "outputs": [
    {
     "data": {
      "text/plain": [
       "<langgraph.graph.state.StateGraph at 0x10e04b7c0>"
      ]
     },
     "execution_count": 6,
     "metadata": {},
     "output_type": "execute_result"
    }
   ],
   "source": [
    "graph_builder.add_edge(\"chatbot\", END)"
   ]
  },
  {
   "cell_type": "code",
   "execution_count": 7,
   "id": "37ffd312-2519-4cba-a143-039aaea4f942",
   "metadata": {},
   "outputs": [],
   "source": [
    "graph = graph_builder.compile()"
   ]
  },
  {
   "cell_type": "code",
   "execution_count": 8,
   "id": "13f4fef6-41da-4de1-aa5b-6bf1a1aa01e7",
   "metadata": {},
   "outputs": [
    {
     "data": {
      "image/png": "[encoded data removed]",
      "text/plain": [
       "<IPython.core.display.Image object>"
      ]
     },
     "metadata": {},
     "output_type": "display_data"
    }
   ],
   "source": [
    "from IPython.display import Image, display\n",
    "\n",
    "try:\n",
    "    display(Image(graph.get_graph().draw_mermaid_png()))\n",
    "except Exception:\n",
    "    # This requires some extra dependencies and is optional\n",
    "    pass"
   ]
  },
  {
   "cell_type": "code",
   "execution_count": 10,
   "id": "9457e5fa-6a47-4896-ab82-7d63c7a81089",
   "metadata": {},
   "outputs": [
    {
     "name": "stdin",
     "output_type": "stream",
     "text": [
      "User:  Are you AI assistant?\n"
     ]
    },
    {
     "name": "stdout",
     "output_type": "stream",
     "text": [
      "Assistant: Yes, I am an AI assistant. I'm here to help answer your questions, provide information, or just have a conversation. How can I assist you today?\n"
     ]
    },
    {
     "name": "stdin",
     "output_type": "stream",
     "text": [
      "User:  okay, I am learning langchain, model invoking through graph directly and via streaming\n"
     ]
    },
    {
     "name": "stdout",
     "output_type": "stream",
     "text": [
      "Assistant: That's great to hear! LangChain is a powerful framework that facilitates the integration of language models into applications. Let's break down the process of invoking models through graphs and via streaming.\n",
      "\n",
      "### Invoking Models Through Graphs\n",
      "\n",
      "When you invoke models through graphs in LangChain, you're essentially creating a flow or pipeline where each step represents a different component or model. This approach allows you to chain together multiple models or processing steps in a structured manner. Here's a high-level overview:\n",
      "\n",
      "1. **Define the Graph:**\n",
      "   - Create nodes that represent different models or processing steps.\n",
      "   - Define edges that represent the flow of data between these nodes.\n",
      "\n",
      "2. **Execute the Graph:**\n",
      "   - Pass the input data through the graph.\n",
      "   - Each node processes the data and passes it along to the next node.\n",
      "\n",
      "### Example:\n",
      "\n",
      "Let's say you want to create a simple pipeline where you first preprocess the input text, then pass it to a language model, and finally postprocess the output.\n",
      "\n",
      "```python\n",
      "from langchain.graph import Graph, Node\n",
      "\n",
      "# Define nodes\n",
      "preprocess_node = Node(\"preprocess\", function=preprocess_function)\n",
      "model_node = Node(\"model\", function=language_model_function)\n",
      "postprocess_node = Node(\"postprocess\", function=postprocess_function)\n",
      "\n",
      "# Define graph\n",
      "graph = Graph()\n",
      "graph.add_node(preprocess_node)\n",
      "graph.add_node(model_node)\n",
      "graph.add_node(postprocess_node)\n",
      "graph.add_edge(preprocess_node, model_node)\n",
      "graph.add_edge(model_node, postprocess_node)\n",
      "\n",
      "# Execute the graph\n",
      "input_data = \"Your input text here\"\n",
      "output = graph.execute(input_data)\n",
      "```\n",
      "\n",
      "### Invoking Models Via Streaming\n",
      "\n",
      "Streaming is useful when you want to process large amounts of data or when you want real-time results. Instead of waiting for the entire input to be processed, you can process and return results incrementally.\n",
      "\n",
      "### Example:\n",
      "\n",
      "Let's say you want to stream the output of a language model as it processes the input text.\n",
      "\n",
      "```python\n",
      "from langchain import LanguageModel\n",
      "\n",
      "# Initialize the language model with streaming capability\n",
      "model = LanguageModel(streaming=True)\n",
      "\n",
      "# Define a generator function to handle streaming\n",
      "def stream_output(input_text):\n",
      "    for chunk in model.generate(input_text):\n",
      "        yield chunk\n",
      "\n",
      "# Use the generator function to stream output\n",
      "input_text = \"Your input text here\"\n",
      "for output_chunk in stream_output(input_text):\n",
      "    print(output_chunk)\n",
      "```\n",
      "\n",
      "### Key Points:\n",
      "\n",
      "1. **Graph-Based Invocation:**\n",
      "   - Suitable for complex workflows with multiple steps.\n",
      "   - Allows for modular and reusable components.\n",
      "   - Provides a clear structure for data flow.\n",
      "\n",
      "2. **Streaming Invocation:**\n",
      "   - Ideal for real-time processing and large datasets.\n",
      "   - Reduces latency by providing partial results as they become available.\n",
      "   - Requires careful handling of streaming data to avoid blocking operations.\n",
      "\n",
      "### Combining Both Approaches:\n",
      "\n",
      "You can also combine both approaches to create a highly flexible and efficient system. For example, you could use a graph to preprocess input data and then stream the output of a language model.\n",
      "\n",
      "```python\n",
      "from langchain.graph import Graph, Node\n",
      "\n",
      "# Define nodes\n",
      "preprocess_node = Node(\"preprocess\", function=preprocess_function)\n",
      "model_node = Node(\"model\", function=lambda input_text: stream_output(input_text))\n",
      "\n",
      "# Define graph\n",
      "graph = Graph()\n",
      "graph.add_node(preprocess_node)\n",
      "graph.add_node(model_node)\n",
      "graph.add_edge(preprocess_node, model_node)\n",
      "\n",
      "# Execute the graph with streaming output\n",
      "input_data = \"Your input text here\"\n",
      "output_generator = graph.execute(input_data)\n",
      "for output_chunk in output_generator:\n",
      "    print(output_chunk)\n",
      "```\n",
      "\n",
      "This combined approach leverages the strengths of both graph-based invocation and streaming, providing a powerful and efficient way to process data.\n"
     ]
    },
    {
     "name": "stdin",
     "output_type": "stream",
     "text": [
      "User:  How is the weather in Delhi today?\n"
     ]
    },
    {
     "name": "stdout",
     "output_type": "stream",
     "text": [
      "Assistant: I'm an assistant that operates solely on the data it was trained on up until 2021, so I don't have real-time or up-to-date information. To find out the current weather in Delhi, I recommend checking a reliable weather website or application. Here are a few options:\n",
      "\n",
      "1. Open Weather Map: <https://openweathermap.org/>\n",
      "2. Weather.com: <https://weather.com/>\n",
      "3. AccuWeather: <https://www.accuweather.com/>\n",
      "4. India Meteorological Department: <https://mausam.imd.gov.in/>\n",
      "\n",
      "These platforms provide current weather updates and forecasts for Delhi and other locations worldwide.\n"
     ]
    },
    {
     "name": "stdin",
     "output_type": "stream",
     "text": [
      "User:  q\n"
     ]
    },
    {
     "name": "stdout",
     "output_type": "stream",
     "text": [
      "Goodbye!\n"
     ]
    }
   ],
   "source": [
    "def stream_graph_updates(user_input: str):\n",
    "    for event in graph.stream({\"messages\": [{\"role\": \"user\", \"content\": user_input}]}):\n",
    "        for value in event.values():\n",
    "            print(\"Assistant:\", value[\"messages\"][-1].content)\n",
    "\n",
    "\n",
    "while True:\n",
    "    try:\n",
    "        user_input = input(\"User: \")\n",
    "        if user_input.lower() in [\"quit\", \"exit\", \"q\"]:\n",
    "            print(\"Goodbye!\")\n",
    "            break\n",
    "\n",
    "        stream_graph_updates(user_input)\n",
    "    except:\n",
    "        # fallback if input() is not available\n",
    "        user_input = \"What do you know about LangGraph?\"\n",
    "        print(\"User: \" + user_input)\n",
    "        output = graph.ainvoke({\"messages\": user_input})\n",
    "        print(output[\"messages\"][-1].pretty_print())\n",
    "        #stream_graph_updates(user_input)\n",
    "        break"
   ]
  },
  {
   "cell_type": "code",
   "execution_count": 13,
   "id": "989012ce-9e27-42e3-95bd-944b088d2dc3",
   "metadata": {},
   "outputs": [
    {
     "data": {
      "text/plain": [
       "[{'title': 'LangGraph Glossary - GitHub Pages',\n",
       "  'url': 'https://langchain-ai.github.io/langgraph/concepts/low_level/',\n",
       "  'content': 'In LangGraph, nodes are typically python functions (sync or async) where the first positional argument is the state, and (optionally), the second positional argument is a \"config\", containing optional configurable parameters (such as a thread_id).\\nSimilar to NetworkX, you add these nodes to a graph using the add_node method:\\n[](https://langchain-ai.github.io/langgraph/concepts/low_level/#__codelineno-7-1)from langchain_core.runnables import RunnableConfig [...] By composing Nodes and Edges, you can create complex, looping workflows that evolve the State over time. The real power, though, comes from how LangGraph manages that State. To emphasize: Nodes and Edges are nothing more than Python functions - they can contain an LLM or just good ol\\' Python code.\\nIn short: nodes do the work. edges tell what to do next. [...] Nodes: Python functions that encode the logic of your agents. They receive the current State as input, perform some computation or side-effect, and return an updated State.\\n\\n\\nEdges: Python functions that determine which Node to execute next based on the current State. They can be conditional branches or fixed transitions.',\n",
       "  'score': 0.9008183},\n",
       " {'title': 'A Comprehensive Guide About Langgraph: Code Included - Ionio',\n",
       "  'url': 'https://www.ionio.ai/blog/a-comprehensive-guide-about-langgraph-code-included',\n",
       "  'content': 'Now let’s take a look at each component of langgraph in detail 🚀\\nNodes\\nA node can be any function or tool your agent uses in langgraph and these nodes are connected with other nodes using edges. Every workflow ends with a “END” node in langgraph which shows the end of workflow. You also need to define a starting node which will be the starting point of your workflow. Optionally, you can also define an ending node if you know the ending point of your workflow. [...] Workflow Automation: \\xa0LangGraph can automate complex workflows that involve multiple steps and decision points. By defining the steps as nodes in the graph and the decision logic as edges, LangGraph can handle complex tasks easily. Langgraph can also make complex RAG systems easy to visualize and implement.',\n",
       "  'score': 0.8991304}]"
      ]
     },
     "execution_count": 13,
     "metadata": {},
     "output_type": "execute_result"
    }
   ],
   "source": [
    "from langchain_community.tools.tavily_search import TavilySearchResults\n",
    "\n",
    "tool = TavilySearchResults(max_results=2)\n",
    "tools = [tool]\n",
    "tool.invoke(\"What's a 'node' in LangGraph?\")"
   ]
  },
  {
   "cell_type": "code",
   "execution_count": 15,
   "id": "e7a75a88-07a0-4f94-aaeb-637af91be6f3",
   "metadata": {},
   "outputs": [],
   "source": [
    "## Modification: tell the LLM which tools it can call\n",
    "model_with_tools = model.bind_tools(tools)"
   ]
  },
  {
   "cell_type": "code",
   "execution_count": 17,
   "id": "9667b93a-31dd-4998-9f85-4fdeee669129",
   "metadata": {},
   "outputs": [
    {
     "name": "stderr",
     "output_type": "stream",
     "text": [
      "Adding a node to a graph that has already been compiled. This will not be reflected in the compiled graph.\n"
     ]
    },
    {
     "data": {
      "text/plain": [
       "<langgraph.graph.state.StateGraph at 0x10e04b7c0>"
      ]
     },
     "execution_count": 17,
     "metadata": {},
     "output_type": "execute_result"
    }
   ],
   "source": [
    "def newchatbot(state: State):\n",
    "    return {\"messages\": [llm_with_tools.invoke(state[\"messages\"])]}\n",
    "\n",
    "\n",
    "graph_builder.add_node(\"newchatbot\", newchatbot)"
   ]
  },
  {
   "cell_type": "code",
   "execution_count": 18,
   "id": "003d91bf-2091-47fb-a2ff-25c017e12546",
   "metadata": {},
   "outputs": [],
   "source": [
    "graph = graph_builder.compile()"
   ]
  },
  {
   "cell_type": "code",
   "execution_count": null,
   "id": "b166b948-9f18-42a2-b50b-e61d3cabbd98",
   "metadata": {},
   "outputs": [
    {
     "name": "stdin",
     "output_type": "stream",
     "text": [
      "User:  What is weather in delhi?\n"
     ]
    },
    {
     "name": "stdout",
     "output_type": "stream",
     "text": [
      "Assistant: I'm an AI and my knowledge cutoff is 2023, so I can't provide real-time information. To get the current weather in Delhi, I recommend checking a reliable weather website or application. Here are a few options:\n",
      "\n",
      "1. Open Weather Map: <https://openweathermap.org/>\n",
      "2. Weather.com: <https://weather.com/>\n",
      "3. AccuWeather: <https://www.accuweather.com/>\n",
      "4. The Weather Channel app\n",
      "5. Google Weather (you can search \"Delhi weather\" in Google)\n",
      "\n",
      "These platforms provide up-to-date weather information, including temperature, humidity, precipitation, and forecasts for the coming days.\n"
     ]
    }
   ],
   "source": [
    "def stream_graph_updates(user_input: str):\n",
    "    for event in graph.stream({\"messages\": [{\"role\": \"user\", \"content\": user_input}]}):\n",
    "        for value in event.values():\n",
    "            print(\"Assistant:\", value[\"messages\"][-1].content)\n",
    "\n",
    "\n",
    "while True:\n",
    "    try:\n",
    "        user_input = input(\"User: \")\n",
    "        if user_input.lower() in [\"quit\", \"exit\", \"q\"]:\n",
    "            print(\"Goodbye!\")\n",
    "            break\n",
    "\n",
    "        stream_graph_updates(user_input)\n",
    "    except:\n",
    "        # fallback if input() is not available\n",
    "        user_input = \"What do you know about LangGraph?\"\n",
    "        print(\"User: \" + user_input)\n",
    "        output = graph.ainvoke({\"messages\": user_input})\n",
    "        print(output[\"messages\"][-1].pretty_print())\n",
    "        #stream_graph_updates(user_input)\n",
    "        break"
   ]
  },
  {
   "cell_type": "code",
   "execution_count": null,
   "id": "68c32a75-b598-4572-8b4c-9e114195b3a4",
   "metadata": {},
   "outputs": [],
   "source": []
  }
 ],
 "metadata": {
  "kernelspec": {
   "display_name": "cosmos",
   "language": "python",
   "name": "cosmos"
  },
  "language_info": {
   "codemirror_mode": {
    "name": "ipython",
    "version": 3
   },
   "file_extension": ".py",
   "mimetype": "text/x-python",
   "name": "python",
   "nbconvert_exporter": "python",
   "pygments_lexer": "ipython3",
   "version": "3.10.9"
  }
 },
 "nbformat": 4,
 "nbformat_minor": 5
}
