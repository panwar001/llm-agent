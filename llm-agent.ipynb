{
 "cells": [
  {
   "cell_type": "code",
   "execution_count": 30,
   "id": "dcf6af84-6c5a-4181-adb8-e5239fc6b230",
   "metadata": {},
   "outputs": [],
   "source": [
    "import getpass\n",
    "import os\n",
    "\n",
    "os.environ[\"MISTRAL_API_KEY\"] = \"\"\n",
    "api_key = os.getenv('MISTRAL_API_KEY')"
   ]
  },
  {
   "cell_type": "code",
   "execution_count": 31,
   "id": "95d478b6-ca34-42b9-adf4-4215ce7562a8",
   "metadata": {},
   "outputs": [],
   "source": [
    "# Import relevant functionality\n",
    "from langchain.chat_models import init_chat_model\n",
    "from langchain_community.tools.tavily_search import TavilySearchResults\n",
    "from langchain_core.messages import HumanMessage\n",
    "\n",
    "model = init_chat_model(\"mistral-large-latest\", model_provider=\"mistralai\")\n",
    "search = TavilySearchResults(max_results=2)\n",
    "tools = [search] # All tools in list\n",
    "\n",
    "#bind tools with model\n",
    "model_with_tools = model.bind_tools(tools)"
   ]
  },
  {
   "cell_type": "code",
   "execution_count": null,
   "id": "d2cdf219-a635-40a2-9c0e-e0ba0e4333fb",
   "metadata": {},
   "outputs": [],
   "source": [
    "#Invoke model with message\n",
    "response = model_with_tools.invoke([HumanMessage(content=\"Hi there!\")])\n",
    "\n",
    "print(f\"Response by Model- ContentString : {response.content}\")\n",
    "print(f\"Response by Tavily- ToolCalls : {response.tool_calls}\")"
   ]
  },
  {
   "cell_type": "code",
   "execution_count": 37,
   "id": "68bd4f6c-b957-40c3-9d5d-25c74962e1dc",
   "metadata": {},
   "outputs": [
    {
     "name": "stdout",
     "output_type": "stream",
     "text": [
      "Response by Model- ContentString: \n",
      "Response by Tavily- ToolCalls : [{'name': 'tavily_search_results_json', 'args': {'query': 'weather in Delhi'}, 'id': 'NFn94EtII', 'type': 'tool_call'}]\n"
     ]
    }
   ],
   "source": [
    "response = model_with_tools.invoke([HumanMessage(content=\"What's the weather in Delhi?\")])\n",
    "\n",
    "print(f\"Response by Model- ContentString: {response.content}\")\n",
    "print(f\"Response by Tavily- ToolCalls : {response.tool_calls}\")\n",
    "# Model Response to call tools\n",
    "#This isn't calling that tool yet - it's just telling us to. \n",
    "#In order to actually call it, we'll want to create our agent."
   ]
  },
  {
   "cell_type": "code",
   "execution_count": 44,
   "id": "b2051a36-dc64-438f-a173-fcd1e1e0730e",
   "metadata": {},
   "outputs": [
    {
     "data": {
      "text/plain": [
       "[HumanMessage(content='Hi Model!', additional_kwargs={}, response_metadata={}, id='5cca52ca-dece-4d83-8ed2-02002c6a253b'),\n",
       " AIMessage(content='Hello! How can I assist you today?', additional_kwargs={}, response_metadata={'token_usage': {'prompt_tokens': 110, 'total_tokens': 119, 'completion_tokens': 9}, 'model_name': 'mistral-large-latest', 'model': 'mistral-large-latest', 'finish_reason': 'stop'}, id='run-5302c2a2-94be-4368-ba8e-ff64600bb326-0', usage_metadata={'input_tokens': 110, 'output_tokens': 9, 'total_tokens': 119})]"
      ]
     },
     "execution_count": 44,
     "metadata": {},
     "output_type": "execute_result"
    }
   ],
   "source": [
    "from langgraph.prebuilt import create_react_agent\n",
    "\n",
    "agent_executor = create_react_agent(model, tools)\n",
    "# Use the agent\n",
    "response = agent_executor.invoke({\"messages\": [HumanMessage(content=\"Hi Model!\")]})\n",
    "\n",
    "response[\"messages\"]"
   ]
  },
  {
   "cell_type": "code",
   "execution_count": null,
   "id": "e9c228a0-5632-4c65-b74c-ac48a0932ddd",
   "metadata": {},
   "outputs": [
    {
     "name": "stdout",
     "output_type": "stream",
     "text": [
      "================================\u001b[1m Human Message \u001b[0m=================================\n",
      "\n",
      "Hi there!\n",
      "==================================\u001b[1m Ai Message \u001b[0m==================================\n",
      "\n",
      "Hello! How can I assist you today? If you have any questions or need help with something specific, feel free to let me know!\n"
     ]
    }
   ],
   "source": [
    "#Streaming\n",
    "\n",
    "for step in agent_executor.stream(\n",
    "    {\"messages\": [HumanMessage(content=\"Hi there!\")]},\n",
    "    config,\n",
    "    stream_mode=\"values\",\n",
    "):\n",
    "    step[\"messages\"][-1].pretty_print()"
   ]
  },
  {
   "cell_type": "code",
   "execution_count": 41,
   "id": "7fe91243-7f48-4e19-bf4a-5acd583e4282",
   "metadata": {},
   "outputs": [
    {
     "name": "stdout",
     "output_type": "stream",
     "text": [
      "================================\u001b[1m Human Message \u001b[0m=================================\n",
      "\n",
      "what's the weather where in Delhi?\n",
      "==================================\u001b[1m Ai Message \u001b[0m==================================\n",
      "Tool Calls:\n",
      "  tavily_search_results_json (Cp3L1ULqV)\n",
      " Call ID: Cp3L1ULqV\n",
      "  Args:\n",
      "    query: weather in Delhi\n",
      "=================================\u001b[1m Tool Message \u001b[0m=================================\n",
      "Name: tavily_search_results_json\n",
      "\n",
      "[{\"title\": \"[PDF] Dated: 23 March 2025 Time of Issue: 1815 Hrs. IST WEATHER ...\", \"url\": \"https://mausam.imd.gov.in/newdelhi/mcdata/delhi_forecast.pdf\", \"content\": \"IN THE MORNING. MAINLY CLEAR SKY.STRONG SURFACE WIND (SPEED 20-30) KMPH DURING THE DAY. West Delhi LIKELY LIKELY LIKELY LIKELY LIKELY MAINLY CLEAR SKY. SMOG/MIST IN THE MORNING. MAINLY CLEAR SKY. SMOG/SHALLOW FOG IN THE MORNING. MAINLY CLEAR SKY. SMOG/MIST IN THE NIGHT. SMOG/SHALLOW FOG IN THE MORNING. MAINLY CLEAR SKY. SMOG/MIST IN THE NIGHT. SMOG/MIST IN THE MORNING. MAINLY CLEAR SKY.STRONG SURFACE WIND (SPEED 20-30) KMPH DURING THE DAY. South Delhi LIKELY LIKELY LIKELY LIKELY LIKELY MAINLY [...] WIND (SPEED 20-30) KMPH DURING THE DAY. New Delhi LIKELY LIKELY LIKELY LIKELY LIKELY MAINLY CLEAR SKY. SMOG/MIST IN THE MORNING. MAINLY CLEAR SKY. SMOG/SHALLOW FOG IN THE MORNING. MAINLY CLEAR SKY. SMOG/MIST IN THE NIGHT. SMOG/SHALLOW FOG IN THE MORNING. MAINLY CLEAR SKY. SMOG/MIST IN THE NIGHT. SMOG/MIST IN THE MORNING. MAINLY CLEAR SKY.STRONG SURFACE WIND (SPEED 20-30) KMPH DURING THE DAY. Central Delhi LIKELY LIKELY LIKELY LIKELY LIKELY MAINLY CLEAR SKY. SMOG/MIST IN THE MORNING. MAINLY [...] CLEAR SKY. SMOG/MIST IN THE MORNING. MAINLY CLEAR SKY. SMOG/SHALLOW FOG IN THE MORNING. MAINLY CLEAR SKY. SMOG/MIST IN THE NIGHT. SMOG/SHALLOW FOG IN THE MORNING. MAINLY CLEAR SKY. SMOG/MIST IN THE NIGHT. SMOG/MIST IN THE MORNING. MAINLY CLEAR SKY.STRONG SURFACE WIND (SPEED 20-30) KMPH DURING THE DAY. South-West Delhi LIKELY LIKELY LIKELY LIKELY LIKELY MAINLY CLEAR SKY. SMOG/MIST IN THE MORNING. MAINLY CLEAR SKY. SMOG/SHALLOW FOG IN THE MORNING. MAINLY CLEAR SKY. SMOG/MIST IN THE NIGHT.\", \"score\": 0.8784047208888889}, {\"title\": \"Weather in Delhi\", \"url\": \"https://www.weatherapi.com/\", \"content\": \"{'location': {'name': 'Delhi', 'region': 'Ontario', 'country': 'Canada', 'lat': 42.85, 'lon': -80.5, 'tz_id': 'America/Toronto', 'localtime_epoch': 1742751148, 'localtime': '2025-03-23 13:32'}, 'current': {'last_updated_epoch': 1742751000, 'last_updated': '2025-03-23 13:30', 'temp_c': -0.2, 'temp_f': 31.6, 'is_day': 1, 'condition': {'text': 'Sunny', 'icon': '//cdn.weatherapi.com/weather/64x64/day/113.png', 'code': 1000}, 'wind_mph': 9.2, 'wind_kph': 14.8, 'wind_degree': 137, 'wind_dir': 'SE', 'pressure_mb': 1022.0, 'pressure_in': 30.17, 'precip_mm': 0.0, 'precip_in': 0.0, 'humidity': 47, 'cloud': 0, 'feelslike_c': -4.6, 'feelslike_f': 23.7, 'windchill_c': -2.3, 'windchill_f': 27.9, 'heatindex_c': 1.8, 'heatindex_f': 35.3, 'dewpoint_c': -7.4, 'dewpoint_f': 18.6, 'vis_km': 10.0, 'vis_miles': 6.0, 'uv': 4.0, 'gust_mph': 10.6, 'gust_kph': 17.0}}\", \"score\": 0.8546477}]\n",
      "==================================\u001b[1m Ai Message \u001b[0m==================================\n",
      "\n",
      "Here's the weather information for Delhi:\n",
      "\n",
      "1. **Weather Conditions**: The weather in Delhi is expected to be mainly clear sky with strong surface winds (speed 20-30 km/h) during the day. There may be smog or mist in the morning and night.\n",
      "\n",
      "2. **Current Weather**: As of the latest update, the temperature in Delhi is -0.2°C (31.6°F). The conditions are sunny with a wind speed of 14.8 km/h from the southeast. The humidity is 47%, and the feels-like temperature is -4.6°C (23.7°F). There is no precipitation, and the visibility is 10.0 km.\n"
     ]
    }
   ],
   "source": [
    "for step in agent_executor.stream(\n",
    "    {\"messages\": [HumanMessage(content=\"what's the weather where in Delhi?\")]},\n",
    "    config,\n",
    "    stream_mode=\"values\",\n",
    "):\n",
    "    step[\"messages\"][-1].pretty_print()"
   ]
  },
  {
   "cell_type": "code",
   "execution_count": 53,
   "id": "483acd5a-e481-4225-a312-7386523b37c8",
   "metadata": {},
   "outputs": [],
   "source": [
    "# For Memory Persistence, keeping conversation history\n",
    "\n",
    "from langgraph.checkpoint.memory import MemorySaver\n",
    "memory = MemorySaver()\n",
    "\n",
    "#Agent will have memory now\n",
    "agent_executor = create_react_agent(model, tools, checkpointer=memory)\n",
    "config = {\"configurable\": {\"thread_id\": \"abc123\"}}"
   ]
  },
  {
   "cell_type": "code",
   "execution_count": 54,
   "id": "666cdccc-2727-42e9-af61-656bbc6bb292",
   "metadata": {},
   "outputs": [
    {
     "name": "stdout",
     "output_type": "stream",
     "text": [
      "{'agent': {'messages': [AIMessage(content='Hello Joy! How can I assist you today?', additional_kwargs={}, response_metadata={'token_usage': {'prompt_tokens': 111, 'total_tokens': 121, 'completion_tokens': 10}, 'model_name': 'mistral-large-latest', 'model': 'mistral-large-latest', 'finish_reason': 'stop'}, id='run-0a855c6f-6716-4c16-8262-80a99749473c-0', usage_metadata={'input_tokens': 111, 'output_tokens': 10, 'total_tokens': 121})]}}\n",
      "----\n"
     ]
    }
   ],
   "source": [
    "for chunk in agent_executor.stream(\n",
    "    {\"messages\": [HumanMessage(content=\"hi im joy!\")]}, config\n",
    "):\n",
    "    print(chunk)\n",
    "    print(\"----\")"
   ]
  },
  {
   "cell_type": "code",
   "execution_count": 55,
   "id": "d5fe4b4d-ae74-46eb-83b4-77605a88dbcf",
   "metadata": {},
   "outputs": [
    {
     "name": "stdout",
     "output_type": "stream",
     "text": [
      "{'agent': {'messages': [AIMessage(content='You said your name is Joy!', additional_kwargs={}, response_metadata={'token_usage': {'prompt_tokens': 129, 'total_tokens': 136, 'completion_tokens': 7}, 'model_name': 'mistral-large-latest', 'model': 'mistral-large-latest', 'finish_reason': 'stop'}, id='run-660ad845-3792-4d15-8734-6ad61baddecb-0', usage_metadata={'input_tokens': 129, 'output_tokens': 7, 'total_tokens': 136})]}}\n",
      "----\n"
     ]
    }
   ],
   "source": [
    "for chunk in agent_executor.stream(\n",
    "    {\"messages\": [HumanMessage(content=\"whats my name?\")]}, config\n",
    "):\n",
    "    print(chunk)\n",
    "    print(\"----\")"
   ]
  },
  {
   "cell_type": "code",
   "execution_count": null,
   "id": "a08da6a4-e8d1-4aa0-a4c6-69fa0f931494",
   "metadata": {},
   "outputs": [],
   "source": []
  }
 ],
 "metadata": {
  "kernelspec": {
   "display_name": "Python 3 (ipykernel)",
   "language": "python",
   "name": "python3"
  },
  "language_info": {
   "codemirror_mode": {
    "name": "ipython",
    "version": 3
   },
   "file_extension": ".py",
   "mimetype": "text/x-python",
   "name": "python",
   "nbconvert_exporter": "python",
   "pygments_lexer": "ipython3",
   "version": "3.10.9"
  }
 },
 "nbformat": 4,
 "nbformat_minor": 5
}
