{
 "cells": [
  {
   "cell_type": "code",
   "execution_count": null,
   "id": "dcf6af84-6c5a-4181-adb8-e5239fc6b230",
   "metadata": {},
   "outputs": [],
   "source": [
    "import getpass\n",
    "import os\n",
    "\n",
    "os.environ[\"MISTRAL_API_KEY\"] = \"\"\n",
    "api_key = os.getenv('MISTRAL_API_KEY')"
   ]
  },
  {
   "cell_type": "code",
   "execution_count": null,
   "id": "95d478b6-ca34-42b9-adf4-4215ce7562a8",
   "metadata": {},
   "outputs": [],
   "source": [
    "# Import relevant functionality\n",
    "from langchain.chat_models import init_chat_model\n",
    "from langchain_community.tools.tavily_search import TavilySearchResults\n",
    "from langchain_core.messages import HumanMessage\n",
    "\n",
    "model = init_chat_model(\"mistral-large-latest\", model_provider=\"mistralai\")\n",
    "search = TavilySearchResults(max_results=2)\n",
    "tools = [search] # All tools in list\n",
    "\n",
    "#bind tools with model\n",
    "model_with_tools = model.bind_tools(tools)"
   ]
  },
  {
   "cell_type": "code",
   "execution_count": null,
   "id": "d2cdf219-a635-40a2-9c0e-e0ba0e4333fb",
   "metadata": {},
   "outputs": [],
   "source": [
    "#Invoke model with message\n",
    "response = model_with_tools.invoke([HumanMessage(content=\"Hi there!\")])\n",
    "\n",
    "print(f\"Response by Model- ContentString : {response.content}\")\n",
    "print(f\"Response by Tavily- ToolCalls : {response.tool_calls}\")"
   ]
  },
  {
   "cell_type": "code",
   "execution_count": null,
   "id": "68bd4f6c-b957-40c3-9d5d-25c74962e1dc",
   "metadata": {},
   "outputs": [],
   "source": [
    "response = model_with_tools.invoke([HumanMessage(content=\"What's the weather in Delhi?\")])\n",
    "\n",
    "print(f\"Response by Model- ContentString: {response.content}\")\n",
    "print(f\"Response by Tavily- ToolCalls : {response.tool_calls}\")\n",
    "# Model Response to call tools\n",
    "#This isn't calling that tool yet - it's just telling us to. \n",
    "#In order to actually call it, we'll want to create our agent."
   ]
  },
  {
   "cell_type": "code",
   "execution_count": null,
   "id": "b2051a36-dc64-438f-a173-fcd1e1e0730e",
   "metadata": {},
   "outputs": [],
   "source": [
    "from langgraph.prebuilt import create_react_agent\n",
    "\n",
    "agent_executor = create_react_agent(model, tools)\n",
    "# Use the agent\n",
    "response = agent_executor.invoke({\"messages\": [HumanMessage(content=\"Hi Model!\")]})\n",
    "\n",
    "response[\"messages\"]"
   ]
  },
  {
   "cell_type": "code",
   "execution_count": null,
   "id": "e9c228a0-5632-4c65-b74c-ac48a0932ddd",
   "metadata": {},
   "outputs": [],
   "source": [
    "#Streaming\n",
    "\n",
    "for step in agent_executor.stream(\n",
    "    {\"messages\": [HumanMessage(content=\"Hi there!\")]},\n",
    "    config,\n",
    "    stream_mode=\"values\",\n",
    "):\n",
    "    step[\"messages\"][-1].pretty_print()"
   ]
  },
  {
   "cell_type": "code",
   "execution_count": null,
   "id": "7fe91243-7f48-4e19-bf4a-5acd583e4282",
   "metadata": {},
   "outputs": [],
   "source": [
    "for step in agent_executor.stream(\n",
    "    {\"messages\": [HumanMessage(content=\"what's the weather where in Delhi?\")]},\n",
    "    config,\n",
    "    stream_mode=\"values\",\n",
    "):\n",
    "    step[\"messages\"][-1].pretty_print()"
   ]
  },
  {
   "cell_type": "code",
   "execution_count": null,
   "id": "483acd5a-e481-4225-a312-7386523b37c8",
   "metadata": {},
   "outputs": [],
   "source": [
    "# For Memory Persistence, keeping conversation history\n",
    "\n",
    "from langgraph.checkpoint.memory import MemorySaver\n",
    "memory = MemorySaver()\n",
    "\n",
    "#Agent will have memory now\n",
    "agent_executor = create_react_agent(model, tools, checkpointer=memory)\n",
    "config = {\"configurable\": {\"thread_id\": \"abc123\"}}"
   ]
  },
  {
   "cell_type": "code",
   "execution_count": null,
   "id": "666cdccc-2727-42e9-af61-656bbc6bb292",
   "metadata": {},
   "outputs": [],
   "source": [
    "for chunk in agent_executor.stream(\n",
    "    {\"messages\": [HumanMessage(content=\"hi im joy!\")]}, config\n",
    "):\n",
    "    print(chunk)\n",
    "    print(\"----\")"
   ]
  },
  {
   "cell_type": "code",
   "execution_count": null,
   "id": "d5fe4b4d-ae74-46eb-83b4-77605a88dbcf",
   "metadata": {},
   "outputs": [],
   "source": [
    "for chunk in agent_executor.stream(\n",
    "    {\"messages\": [HumanMessage(content=\"whats my name?\")]}, config\n",
    "):\n",
    "    print(chunk)\n",
    "    print(\"----\")"
   ]
  },
  {
   "cell_type": "code",
   "execution_count": null,
   "id": "a08da6a4-e8d1-4aa0-a4c6-69fa0f931494",
   "metadata": {},
   "outputs": [],
   "source": []
  }
 ],
 "metadata": {
  "kernelspec": {
   "display_name": "Python 3 (ipykernel)",
   "language": "python",
   "name": "python3"
  },
  "language_info": {
   "codemirror_mode": {
    "name": "ipython",
    "version": 3
   },
   "file_extension": ".py",
   "mimetype": "text/x-python",
   "name": "python",
   "nbconvert_exporter": "python",
   "pygments_lexer": "ipython3",
   "version": "3.10.9"
  }
 },
 "nbformat": 4,
 "nbformat_minor": 5
}
